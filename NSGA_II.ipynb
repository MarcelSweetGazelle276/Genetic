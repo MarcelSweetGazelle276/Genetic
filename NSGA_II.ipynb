{
  "nbformat": 4,
  "nbformat_minor": 0,
  "metadata": {
    "colab": {
      "name": "NSGA-II.ipynb",
      "provenance": [],
      "collapsed_sections": []
    },
    "kernelspec": {
      "name": "python3",
      "display_name": "Python 3"
    }
  },
  "cells": [
    {
      "cell_type": "code",
      "metadata": {
        "colab": {
          "base_uri": "https://localhost:8080/"
        },
        "id": "5arhVHDP-qfA",
        "outputId": "64c43277-af63-4247-a4d0-32e64f540960"
      },
      "source": [
        " !pip install -U --no-cache-dir pymoo"
      ],
      "execution_count": 2,
      "outputs": [
        {
          "output_type": "stream",
          "text": [
            "Collecting pymoo\n",
            "\u001b[?25l  Downloading https://files.pythonhosted.org/packages/4a/9b/47487d8fbc75ffe7dbf175189fd190c48596d63da2df3f9fb2cd29eb104b/pymoo-0.4.2.2.tar.gz (3.7MB)\n",
            "\u001b[K     |████████████████████████████████| 3.7MB 9.6MB/s \n",
            "\u001b[?25hRequirement already satisfied, skipping upgrade: numpy>=1.15 in /usr/local/lib/python3.7/dist-packages (from pymoo) (1.19.5)\n",
            "Requirement already satisfied, skipping upgrade: scipy>=1.1 in /usr/local/lib/python3.7/dist-packages (from pymoo) (1.4.1)\n",
            "Requirement already satisfied, skipping upgrade: matplotlib>=3 in /usr/local/lib/python3.7/dist-packages (from pymoo) (3.2.2)\n",
            "Requirement already satisfied, skipping upgrade: autograd>=1.3 in /usr/local/lib/python3.7/dist-packages (from pymoo) (1.3)\n",
            "Collecting cma==2.7\n",
            "\u001b[?25l  Downloading https://files.pythonhosted.org/packages/b9/3b/87a4efbcfeaf3172d81ef843f0b0c34c3ba60ec884aa6777f34f68b57418/cma-2.7.0-py2.py3-none-any.whl (239kB)\n",
            "\u001b[K     |████████████████████████████████| 245kB 43.7MB/s \n",
            "\u001b[?25hRequirement already satisfied, skipping upgrade: python-dateutil>=2.1 in /usr/local/lib/python3.7/dist-packages (from matplotlib>=3->pymoo) (2.8.1)\n",
            "Requirement already satisfied, skipping upgrade: kiwisolver>=1.0.1 in /usr/local/lib/python3.7/dist-packages (from matplotlib>=3->pymoo) (1.3.1)\n",
            "Requirement already satisfied, skipping upgrade: cycler>=0.10 in /usr/local/lib/python3.7/dist-packages (from matplotlib>=3->pymoo) (0.10.0)\n",
            "Requirement already satisfied, skipping upgrade: pyparsing!=2.0.4,!=2.1.2,!=2.1.6,>=2.0.1 in /usr/local/lib/python3.7/dist-packages (from matplotlib>=3->pymoo) (2.4.7)\n",
            "Requirement already satisfied, skipping upgrade: future>=0.15.2 in /usr/local/lib/python3.7/dist-packages (from autograd>=1.3->pymoo) (0.16.0)\n",
            "Requirement already satisfied, skipping upgrade: six>=1.5 in /usr/local/lib/python3.7/dist-packages (from python-dateutil>=2.1->matplotlib>=3->pymoo) (1.15.0)\n",
            "Building wheels for collected packages: pymoo\n",
            "  Building wheel for pymoo (setup.py) ... \u001b[?25l\u001b[?25hdone\n",
            "  Created wheel for pymoo: filename=pymoo-0.4.2.2-cp37-cp37m-linux_x86_64.whl size=4939862 sha256=dede407ec71bab42f9be6e7cfa1ef32f0c7cf5043da35c7109a00f961770c440\n",
            "  Stored in directory: /tmp/pip-ephem-wheel-cache-nrglej78/wheels/95/13/7a/b9489d4dc66ef0b7d03f6cc3be7535b9b2f18d83893437ad7c\n",
            "Successfully built pymoo\n",
            "Installing collected packages: cma, pymoo\n",
            "Successfully installed cma-2.7.0 pymoo-0.4.2.2\n"
          ],
          "name": "stdout"
        }
      ]
    },
    {
      "cell_type": "markdown",
      "metadata": {
        "id": "O4M0SnXvUsE1"
      },
      "source": [
        "https://github.com/baopng/NSGA-II\n",
        "\n",
        "https://pymoo.org/getting_started.html?fbclid=IwAR0NJaQmJhu1YiWuY1X2P2MyeZHH998SuM7BK9dINAWJUzdUURlOg2X1y_Q"
      ]
    },
    {
      "cell_type": "code",
      "metadata": {
        "id": "PcEHL1OfIbOw"
      },
      "source": [
        "import numpy as np \r\n",
        "from pymoo.util.misc import stack\r\n",
        "from pymoo.model.problem import Problem\r\n",
        "from pymoo.model.problem import FunctionalProblem\r\n",
        "from pymoo.visualization.scatter import Scatter"
      ],
      "execution_count": 11,
      "outputs": []
    },
    {
      "cell_type": "code",
      "metadata": {
        "id": "CdLac2F2Cbs5"
      },
      "source": [
        "import numpy as np\r\n",
        "from pymoo.model.problem import Problem\r\n",
        "#on pose m = 1280\r\n",
        "class MyProblem(Problem):\r\n",
        "\r\n",
        "    def __init__(self):\r\n",
        "        super().__init__(n_var=5,\r\n",
        "                         n_obj=2,\r\n",
        "                         n_constr=2,\r\n",
        "                         xl=np.array([-5,-5,-5,-5,-5]),\r\n",
        "                         xu=np.array([12800,12800,12800,12800,12800]))\r\n",
        "    #X[:,0] = Y\r\n",
        "    #X[:,1] = C\r\n",
        "    #X[:,2] = Z\r\n",
        "    #X[:,3] = D\r\n",
        "    #X[:,4] = X\r\n",
        "    def _evaluate(self, X, out, *args, **kwargs):\r\n",
        "        f1 = X[:,0]*X[:,1] + X[:,0]*X[:,1] + X[:,2]*X[:,1]*X[:,3]\r\n",
        "        f2 = X[:,0]*X[:,1]\r\n",
        "\r\n",
        "        g1 = X[:,4]-1\r\n",
        "        g2 = X[:,2]-1\r\n",
        "\r\n",
        "        out[\"F\"] = np.column_stack([f1, f2])\r\n",
        "        out[\"G\"] = np.column_stack([g1, g2])\r\n",
        "\r\n",
        "\r\n",
        "vectorized_problem = MyProblem()"
      ],
      "execution_count": 12,
      "outputs": []
    },
    {
      "cell_type": "code",
      "metadata": {
        "id": "PYA3XyghCcwI"
      },
      "source": [
        "import numpy as np\r\n",
        "from pymoo.util.misc import stack\r\n",
        "from pymoo.model.problem import Problem\r\n",
        "\r\n",
        "class MyTestProblem(MyProblem):\r\n",
        "\r\n",
        "    def _calc_pareto_front(self, *args, **kwargs):\r\n",
        "        return func_pf(**kwargs)\r\n",
        "\r\n",
        "    def _calc_pareto_set(self, *args, **kwargs):\r\n",
        "        return func_ps(**kwargs)\r\n",
        "\r\n",
        "test_problem = MyTestProblem()"
      ],
      "execution_count": 13,
      "outputs": []
    },
    {
      "cell_type": "code",
      "metadata": {
        "id": "JJ7-VyOYDV4J"
      },
      "source": [
        "problem = MyProblem()"
      ],
      "execution_count": 14,
      "outputs": []
    },
    {
      "cell_type": "code",
      "metadata": {
        "id": "abtPNGNwCoch"
      },
      "source": [
        "from pymoo.algorithms.nsga2 import NSGA2\r\n",
        "from pymoo.factory import get_sampling, get_crossover, get_mutation\r\n",
        "\r\n",
        "algorithm = NSGA2(\r\n",
        "    pop_size=50,\r\n",
        "    n_offsprings=10,\r\n",
        "    sampling=get_sampling(\"real_random\"),\r\n",
        "    crossover=get_crossover(\"real_sbx\", prob=0.9, eta=15),\r\n",
        "    mutation=get_mutation(\"real_pm\", eta=20),\r\n",
        "    eliminate_duplicates=True\r\n",
        ")\r\n"
      ],
      "execution_count": 15,
      "outputs": []
    },
    {
      "cell_type": "code",
      "metadata": {
        "id": "rpJ6PdcXCxT4"
      },
      "source": [
        "from pymoo.factory import get_termination\r\n",
        "\r\n",
        "termination = get_termination(\"n_gen\", 40)"
      ],
      "execution_count": 16,
      "outputs": []
    },
    {
      "cell_type": "code",
      "metadata": {
        "colab": {
          "base_uri": "https://localhost:8080/"
        },
        "id": "XjR_WO5kC1Jh",
        "outputId": "a90faad9-b02f-43a4-91df-313bd1bb6eac"
      },
      "source": [
        "from pymoo.optimize import minimize\r\n",
        "\r\n",
        "res = minimize(problem,\r\n",
        "               algorithm,\r\n",
        "               termination,\r\n",
        "               seed=1,\r\n",
        "               save_history=True,\r\n",
        "               verbose=True)"
      ],
      "execution_count": 17,
      "outputs": [
        {
          "output_type": "stream",
          "text": [
            "=====================================================================================\n",
            "n_gen |  n_eval |   cv (min)   |   cv (avg)   |  n_nds  |     eps      |  indicator  \n",
            "=====================================================================================\n",
            "    1 |      50 |  1.32573E+03 |  1.32757E+04 |       1 |            - |            -\n",
            "    2 |      60 |  1.30104E+03 |  1.05682E+04 |       1 |  6.70467E+07 |        ideal\n",
            "    3 |      70 |  1.30104E+03 |  8.66239E+03 |       1 |  0.00000E+00 |            f\n",
            "    4 |      80 |  1.30104E+03 |  7.04343E+03 |       1 |  0.00000E+00 |            f\n",
            "    5 |      90 |  1.30104E+03 |  6.10135E+03 |       1 |  0.00000E+00 |            f\n",
            "    6 |     100 |  1.30104E+03 |  4.99137E+03 |       1 |  0.00000E+00 |            f\n",
            "    7 |     110 |  1.03946E+03 |  3.95751E+03 |       1 |  1.89232E+10 |        ideal\n",
            "    8 |     120 |  1.03769E+03 |  3.07802E+03 |       1 |  1.64061E+10 |        ideal\n",
            "    9 |     130 |  1.76541E+02 |  2.30799E+03 |       1 |  3.20926E+06 |        ideal\n",
            "   10 |     140 |  1.76541E+02 |  1.82736E+03 |       1 |  0.00000E+00 |            f\n",
            "   11 |     150 |  1.76541E+02 |  1.56840E+03 |       1 |  0.00000E+00 |            f\n",
            "   12 |     160 |  1.76541E+02 |  1.36384E+03 |       1 |  0.00000E+00 |            f\n",
            "   13 |     170 |  1.76541E+02 |  1.19622E+03 |       1 |  0.00000E+00 |            f\n",
            "   14 |     180 |  1.76541E+02 |  1.01638E+03 |       1 |  0.00000E+00 |            f\n",
            "   15 |     190 |  1.76541E+02 |  8.61389E+02 |       1 |  0.00000E+00 |            f\n",
            "   16 |     200 |  1.76541E+02 |  7.56215E+02 |       1 |  0.00000E+00 |            f\n",
            "   17 |     210 |  1.76541E+02 |  6.93941E+02 |       1 |  0.00000E+00 |            f\n",
            "   18 |     220 |  1.68797E+02 |  6.05394E+02 |       1 |  1.34342E+09 |        ideal\n",
            "   19 |     230 |  1.19671E+02 |  5.06034E+02 |       1 |  3.95138E+09 |        ideal\n",
            "   20 |     240 |  7.93325E+01 |  4.17647E+02 |       1 |  2.22004E+08 |        ideal\n",
            "   21 |     250 |  3.53344E+01 |  3.52186E+02 |       1 |  1.94615E+09 |        ideal\n",
            "   22 |     260 |  3.53344E+01 |  2.93676E+02 |       1 |  0.00000E+00 |            f\n",
            "   23 |     270 |  3.53344E+01 |  2.53517E+02 |       1 |  0.00000E+00 |            f\n",
            "   24 |     280 |  3.53344E+01 |  2.08304E+02 |       1 |  0.00000E+00 |            f\n",
            "   25 |     290 |  3.53344E+01 |  1.65338E+02 |       1 |  0.00000E+00 |            f\n",
            "   26 |     300 |  0.029878152 |  1.33610E+02 |       1 |  1.13787E+08 |        ideal\n",
            "   27 |     310 |  0.029878152 |  1.21058E+02 |       1 |  0.00000E+00 |            f\n",
            "   28 |     320 |  0.029878152 |  1.04247E+02 |       1 |  0.00000E+00 |            f\n",
            "   29 |     330 |  0.029878152 |  8.91921E+01 |       1 |  0.00000E+00 |            f\n",
            "   30 |     340 |  0.029878152 |  7.29128E+01 |       1 |  0.00000E+00 |            f\n",
            "   31 |     350 |  0.00000E+00 |  6.04891E+01 |       1 |  3.62242E+07 |        ideal\n",
            "   32 |     360 |  0.00000E+00 |  5.13728E+01 |       1 |  0.00000E+00 |            f\n",
            "   33 |     370 |  0.00000E+00 |  3.91279E+01 |       2 |  1.000000000 |        ideal\n",
            "   34 |     380 |  0.00000E+00 |  2.69208E+01 |       2 |  0.00000E+00 |            f\n",
            "   35 |     390 |  0.00000E+00 |  1.98305E+01 |       1 |  5.49197E+07 |        ideal\n",
            "   36 |     400 |  0.00000E+00 |  1.15740E+01 |       3 |  0.736211220 |        ideal\n",
            "   37 |     410 |  0.00000E+00 |  8.029212825 |       5 |  0.247890774 |        ideal\n",
            "   38 |     420 |  0.00000E+00 |  2.529776336 |       6 |  0.003262442 |            f\n",
            "   39 |     430 |  0.00000E+00 |  0.611642571 |       6 |  0.00000E+00 |            f\n",
            "   40 |     440 |  0.00000E+00 |  0.072528782 |       6 |  0.00000E+00 |            f\n"
          ],
          "name": "stdout"
        }
      ]
    },
    {
      "cell_type": "code",
      "metadata": {
        "colab": {
          "base_uri": "https://localhost:8080/",
          "height": 418
        },
        "id": "33uxMBYzNG6Y",
        "outputId": "33e6a867-c7fa-4ae8-b4f6-942528992447"
      },
      "source": [
        "plot = Scatter()\r\n",
        "plot.add(problem.pareto_front(), plot_type=\"line\", color=\"black\", alpha=0.7)\r\n",
        "plot.add(res.F, color=\"blue\")\r\n",
        "plot.show()"
      ],
      "execution_count": 18,
      "outputs": [
        {
          "output_type": "execute_result",
          "data": {
            "text/plain": [
              "<pymoo.visualization.scatter.Scatter at 0x7f74e7b58c10>"
            ]
          },
          "metadata": {
            "tags": []
          },
          "execution_count": 18
        },
        {
          "output_type": "display_data",
          "data": {
            "image/png": "[encoded data removed]",
            "text/plain": [
              "<Figure size 576x432 with 1 Axes>"
            ]
          },
          "metadata": {
            "tags": [],
            "needs_background": "light"
          }
        }
      ]
    }
  ]
}